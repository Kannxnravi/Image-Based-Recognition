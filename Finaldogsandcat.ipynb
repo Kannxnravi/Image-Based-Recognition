{
 "cells": [
  {
   "cell_type": "code",
   "execution_count": 1,
   "metadata": {
    "execution": {
     "iopub.execute_input": "2022-10-10T12:47:22.906477Z",
     "iopub.status.busy": "2022-10-10T12:47:22.904192Z",
     "iopub.status.idle": "2022-10-10T12:47:24.508133Z",
     "shell.execute_reply": "2022-10-10T12:47:24.507129Z",
     "shell.execute_reply.started": "2022-10-10T12:47:22.906383Z"
    }
   },
   "outputs": [],
   "source": [
    "import tensorflow as tf\n",
    "from keras.preprocessing.image import ImageDataGenerator"
   ]
  },
  {
   "cell_type": "code",
   "execution_count": 2,
   "metadata": {
    "execution": {
     "iopub.execute_input": "2022-10-10T12:47:26.159394Z",
     "iopub.status.busy": "2022-10-10T12:47:26.158783Z",
     "iopub.status.idle": "2022-10-10T12:47:26.169043Z",
     "shell.execute_reply": "2022-10-10T12:47:26.167895Z",
     "shell.execute_reply.started": "2022-10-10T12:47:26.159339Z"
    }
   },
   "outputs": [
    {
     "data": {
      "text/plain": [
       "'2.6.4'"
      ]
     },
     "execution_count": 2,
     "metadata": {},
     "output_type": "execute_result"
    }
   ],
   "source": [
    "tf.__version__"
   ]
  },
  {
   "cell_type": "code",
   "execution_count": 3,
   "metadata": {
    "execution": {
     "iopub.execute_input": "2022-10-10T12:47:27.553624Z",
     "iopub.status.busy": "2022-10-10T12:47:27.553232Z",
     "iopub.status.idle": "2022-10-10T12:47:28.705171Z",
     "shell.execute_reply": "2022-10-10T12:47:28.704110Z",
     "shell.execute_reply.started": "2022-10-10T12:47:27.553590Z"
    }
   },
   "outputs": [
    {
     "name": "stdout",
     "output_type": "stream",
     "text": [
      "Found 8000 images belonging to 2 classes.\n"
     ]
    }
   ],
   "source": [
    "train_datagen = ImageDataGenerator(rescale = 1./255,\n",
    "                                   shear_range = 0.2,\n",
    "                                   zoom_range = 0.2,\n",
    "                                   horizontal_flip = True)\n",
    "training_set = train_datagen.flow_from_directory('../input/dogandcats/dogs_cats/training_set',\n",
    "                                                 target_size = (128, 128),\n",
    "                                                 batch_size = 32,\n",
    "                                                 class_mode = 'binary')"
   ]
  },
  {
   "cell_type": "code",
   "execution_count": 4,
   "metadata": {
    "execution": {
     "iopub.execute_input": "2022-10-10T12:47:29.902015Z",
     "iopub.status.busy": "2022-10-10T12:47:29.901275Z",
     "iopub.status.idle": "2022-10-10T12:47:30.133307Z",
     "shell.execute_reply": "2022-10-10T12:47:30.132283Z",
     "shell.execute_reply.started": "2022-10-10T12:47:29.901974Z"
    }
   },
   "outputs": [
    {
     "name": "stdout",
     "output_type": "stream",
     "text": [
      "Found 2000 images belonging to 2 classes.\n"
     ]
    }
   ],
   "source": [
    "test_datagen = ImageDataGenerator(rescale = 1./255)\n",
    "test_set = test_datagen.flow_from_directory('../input/dogandcats/dogs_cats/test_set',\n",
    "                                            target_size = (128, 128),\n",
    "                                            batch_size = 32,\n",
    "                                            class_mode = 'binary')"
   ]
  },
  {
   "cell_type": "code",
   "execution_count": 5,
   "metadata": {
    "execution": {
     "iopub.execute_input": "2022-10-10T12:47:31.850592Z",
     "iopub.status.busy": "2022-10-10T12:47:31.849451Z",
     "iopub.status.idle": "2022-10-10T12:47:34.508825Z",
     "shell.execute_reply": "2022-10-10T12:47:34.506480Z",
     "shell.execute_reply.started": "2022-10-10T12:47:31.850543Z"
    }
   },
   "outputs": [
    {
     "name": "stderr",
     "output_type": "stream",
     "text": [
      "2022-10-10 12:47:31.939326: I tensorflow/stream_executor/cuda/cuda_gpu_executor.cc:937] successful NUMA node read from SysFS had negative value (-1), but there must be at least one NUMA node, so returning NUMA node zero\n",
      "2022-10-10 12:47:32.033417: I tensorflow/stream_executor/cuda/cuda_gpu_executor.cc:937] successful NUMA node read from SysFS had negative value (-1), but there must be at least one NUMA node, so returning NUMA node zero\n",
      "2022-10-10 12:47:32.034186: I tensorflow/stream_executor/cuda/cuda_gpu_executor.cc:937] successful NUMA node read from SysFS had negative value (-1), but there must be at least one NUMA node, so returning NUMA node zero\n",
      "2022-10-10 12:47:32.035978: I tensorflow/core/platform/cpu_feature_guard.cc:142] This TensorFlow binary is optimized with oneAPI Deep Neural Network Library (oneDNN) to use the following CPU instructions in performance-critical operations:  AVX2 AVX512F FMA\n",
      "To enable them in other operations, rebuild TensorFlow with the appropriate compiler flags.\n",
      "2022-10-10 12:47:32.036269: I tensorflow/stream_executor/cuda/cuda_gpu_executor.cc:937] successful NUMA node read from SysFS had negative value (-1), but there must be at least one NUMA node, so returning NUMA node zero\n",
      "2022-10-10 12:47:32.036961: I tensorflow/stream_executor/cuda/cuda_gpu_executor.cc:937] successful NUMA node read from SysFS had negative value (-1), but there must be at least one NUMA node, so returning NUMA node zero\n",
      "2022-10-10 12:47:32.037593: I tensorflow/stream_executor/cuda/cuda_gpu_executor.cc:937] successful NUMA node read from SysFS had negative value (-1), but there must be at least one NUMA node, so returning NUMA node zero\n",
      "2022-10-10 12:47:34.151862: I tensorflow/stream_executor/cuda/cuda_gpu_executor.cc:937] successful NUMA node read from SysFS had negative value (-1), but there must be at least one NUMA node, so returning NUMA node zero\n",
      "2022-10-10 12:47:34.152701: I tensorflow/stream_executor/cuda/cuda_gpu_executor.cc:937] successful NUMA node read from SysFS had negative value (-1), but there must be at least one NUMA node, so returning NUMA node zero\n",
      "2022-10-10 12:47:34.153336: I tensorflow/stream_executor/cuda/cuda_gpu_executor.cc:937] successful NUMA node read from SysFS had negative value (-1), but there must be at least one NUMA node, so returning NUMA node zero\n",
      "2022-10-10 12:47:34.153928: I tensorflow/core/common_runtime/gpu/gpu_device.cc:1510] Created device /job:localhost/replica:0/task:0/device:GPU:0 with 15401 MB memory:  -> device: 0, name: Tesla P100-PCIE-16GB, pci bus id: 0000:00:04.0, compute capability: 6.0\n"
     ]
    }
   ],
   "source": [
    "cnn = tf.keras.models.Sequential()"
   ]
  },
  {
   "cell_type": "code",
   "execution_count": 6,
   "metadata": {
    "execution": {
     "iopub.execute_input": "2022-10-10T12:47:40.756784Z",
     "iopub.status.busy": "2022-10-10T12:47:40.756308Z",
     "iopub.status.idle": "2022-10-10T12:47:40.799243Z",
     "shell.execute_reply": "2022-10-10T12:47:40.798365Z",
     "shell.execute_reply.started": "2022-10-10T12:47:40.756743Z"
    }
   },
   "outputs": [],
   "source": [
    "cnn.add(tf.keras.layers.Conv2D(filters=32, kernel_size=3, activation ='relu', input_shape = [128,128,3]))"
   ]
  },
  {
   "cell_type": "code",
   "execution_count": 7,
   "metadata": {
    "execution": {
     "iopub.execute_input": "2022-10-10T12:47:42.824079Z",
     "iopub.status.busy": "2022-10-10T12:47:42.823333Z",
     "iopub.status.idle": "2022-10-10T12:47:42.834843Z",
     "shell.execute_reply": "2022-10-10T12:47:42.833877Z",
     "shell.execute_reply.started": "2022-10-10T12:47:42.824040Z"
    }
   },
   "outputs": [],
   "source": [
    "cnn.add(tf.keras.layers.MaxPool2D(pool_size=2, strides=2))"
   ]
  },
  {
   "cell_type": "code",
   "execution_count": 8,
   "metadata": {
    "execution": {
     "iopub.execute_input": "2022-10-10T12:47:44.818908Z",
     "iopub.status.busy": "2022-10-10T12:47:44.818531Z",
     "iopub.status.idle": "2022-10-10T12:47:44.838792Z",
     "shell.execute_reply": "2022-10-10T12:47:44.837828Z",
     "shell.execute_reply.started": "2022-10-10T12:47:44.818877Z"
    }
   },
   "outputs": [],
   "source": [
    "cnn.add(tf.keras.layers.Conv2D(filters=32, kernel_size=3, activation='relu'))\n",
    "cnn.add(tf.keras.layers.MaxPool2D(pool_size=2, strides=2))"
   ]
  },
  {
   "cell_type": "code",
   "execution_count": 9,
   "metadata": {
    "execution": {
     "iopub.execute_input": "2022-10-10T12:47:47.249590Z",
     "iopub.status.busy": "2022-10-10T12:47:47.249202Z",
     "iopub.status.idle": "2022-10-10T12:47:47.261169Z",
     "shell.execute_reply": "2022-10-10T12:47:47.260190Z",
     "shell.execute_reply.started": "2022-10-10T12:47:47.249555Z"
    }
   },
   "outputs": [],
   "source": [
    "cnn.add(tf.keras.layers.Flatten())"
   ]
  },
  {
   "cell_type": "code",
   "execution_count": 10,
   "metadata": {
    "execution": {
     "iopub.execute_input": "2022-10-10T12:47:48.841976Z",
     "iopub.status.busy": "2022-10-10T12:47:48.841248Z",
     "iopub.status.idle": "2022-10-10T12:47:48.858094Z",
     "shell.execute_reply": "2022-10-10T12:47:48.857174Z",
     "shell.execute_reply.started": "2022-10-10T12:47:48.841937Z"
    }
   },
   "outputs": [],
   "source": [
    "cnn.add(tf.keras.layers.Dense(units = 128, activation = 'relu'))"
   ]
  },
  {
   "cell_type": "code",
   "execution_count": 11,
   "metadata": {
    "execution": {
     "iopub.execute_input": "2022-10-10T12:47:50.910115Z",
     "iopub.status.busy": "2022-10-10T12:47:50.909740Z",
     "iopub.status.idle": "2022-10-10T12:47:50.926462Z",
     "shell.execute_reply": "2022-10-10T12:47:50.925595Z",
     "shell.execute_reply.started": "2022-10-10T12:47:50.910081Z"
    }
   },
   "outputs": [],
   "source": [
    "cnn.add(tf.keras.layers.Dense(units = 1, activation = 'sigmoid'))"
   ]
  },
  {
   "cell_type": "code",
   "execution_count": 12,
   "metadata": {
    "execution": {
     "iopub.execute_input": "2022-10-10T12:47:53.037367Z",
     "iopub.status.busy": "2022-10-10T12:47:53.036999Z",
     "iopub.status.idle": "2022-10-10T12:47:53.053176Z",
     "shell.execute_reply": "2022-10-10T12:47:53.051999Z",
     "shell.execute_reply.started": "2022-10-10T12:47:53.037335Z"
    }
   },
   "outputs": [],
   "source": [
    "cnn.compile(optimizer = 'adam', loss = 'binary_crossentropy', metrics = ['accuracy'])\n"
   ]
  },
  {
   "cell_type": "code",
   "execution_count": 13,
   "metadata": {
    "execution": {
     "iopub.execute_input": "2022-10-10T12:47:55.027280Z",
     "iopub.status.busy": "2022-10-10T12:47:55.026905Z",
     "iopub.status.idle": "2022-10-10T13:08:43.369460Z",
     "shell.execute_reply": "2022-10-10T13:08:43.368439Z",
     "shell.execute_reply.started": "2022-10-10T12:47:55.027245Z"
    }
   },
   "outputs": [
    {
     "name": "stderr",
     "output_type": "stream",
     "text": [
      "2022-10-10 12:47:55.527050: I tensorflow/compiler/mlir/mlir_graph_optimization_pass.cc:185] None of the MLIR Optimization Passes are enabled (registered 2)\n"
     ]
    },
    {
     "name": "stdout",
     "output_type": "stream",
     "text": [
      "Epoch 1/20\n"
     ]
    },
    {
     "name": "stderr",
     "output_type": "stream",
     "text": [
      "2022-10-10 12:47:57.107230: I tensorflow/stream_executor/cuda/cuda_dnn.cc:369] Loaded cuDNN version 8005\n"
     ]
    },
    {
     "name": "stdout",
     "output_type": "stream",
     "text": [
      "250/250 [==============================] - 85s 310ms/step - loss: 0.6891 - accuracy: 0.5865 - val_loss: 0.6358 - val_accuracy: 0.6500\n",
      "Epoch 2/20\n",
      "250/250 [==============================] - 58s 232ms/step - loss: 0.6306 - accuracy: 0.6511 - val_loss: 0.6077 - val_accuracy: 0.6815\n",
      "Epoch 3/20\n",
      "250/250 [==============================] - 58s 231ms/step - loss: 0.6122 - accuracy: 0.6740 - val_loss: 0.5755 - val_accuracy: 0.7155\n",
      "Epoch 4/20\n",
      "250/250 [==============================] - 58s 232ms/step - loss: 0.5652 - accuracy: 0.7095 - val_loss: 0.5658 - val_accuracy: 0.7165\n",
      "Epoch 5/20\n",
      "250/250 [==============================] - 57s 226ms/step - loss: 0.5251 - accuracy: 0.7355 - val_loss: 0.5264 - val_accuracy: 0.7410\n",
      "Epoch 6/20\n",
      "250/250 [==============================] - 57s 227ms/step - loss: 0.4952 - accuracy: 0.7624 - val_loss: 0.4970 - val_accuracy: 0.7570\n",
      "Epoch 7/20\n",
      "250/250 [==============================] - 57s 227ms/step - loss: 0.4678 - accuracy: 0.7742 - val_loss: 0.5435 - val_accuracy: 0.7250\n",
      "Epoch 8/20\n",
      "250/250 [==============================] - 58s 231ms/step - loss: 0.4500 - accuracy: 0.7887 - val_loss: 0.4706 - val_accuracy: 0.7790\n",
      "Epoch 9/20\n",
      "250/250 [==============================] - 58s 232ms/step - loss: 0.4282 - accuracy: 0.8034 - val_loss: 0.5046 - val_accuracy: 0.7645\n",
      "Epoch 10/20\n",
      "250/250 [==============================] - 58s 232ms/step - loss: 0.4041 - accuracy: 0.8098 - val_loss: 0.4872 - val_accuracy: 0.7775\n",
      "Epoch 11/20\n",
      "250/250 [==============================] - 57s 228ms/step - loss: 0.3914 - accuracy: 0.8166 - val_loss: 0.4725 - val_accuracy: 0.7870\n",
      "Epoch 12/20\n",
      "250/250 [==============================] - 56s 226ms/step - loss: 0.3755 - accuracy: 0.8260 - val_loss: 0.5223 - val_accuracy: 0.7615\n",
      "Epoch 13/20\n",
      "250/250 [==============================] - 57s 228ms/step - loss: 0.3600 - accuracy: 0.8411 - val_loss: 0.5104 - val_accuracy: 0.7890\n",
      "Epoch 14/20\n",
      "250/250 [==============================] - 57s 229ms/step - loss: 0.3447 - accuracy: 0.8479 - val_loss: 0.5467 - val_accuracy: 0.7885\n",
      "Epoch 15/20\n",
      "250/250 [==============================] - 57s 230ms/step - loss: 0.3331 - accuracy: 0.8528 - val_loss: 0.5203 - val_accuracy: 0.7730\n",
      "Epoch 16/20\n",
      "250/250 [==============================] - 57s 228ms/step - loss: 0.3151 - accuracy: 0.8668 - val_loss: 0.4971 - val_accuracy: 0.8050\n",
      "Epoch 17/20\n",
      "250/250 [==============================] - 58s 231ms/step - loss: 0.3019 - accuracy: 0.8684 - val_loss: 0.4942 - val_accuracy: 0.7900\n",
      "Epoch 18/20\n",
      "250/250 [==============================] - 58s 230ms/step - loss: 0.2835 - accuracy: 0.8794 - val_loss: 0.5649 - val_accuracy: 0.7850\n",
      "Epoch 19/20\n",
      "250/250 [==============================] - 57s 227ms/step - loss: 0.2718 - accuracy: 0.8874 - val_loss: 0.5288 - val_accuracy: 0.7935\n",
      "Epoch 20/20\n",
      "250/250 [==============================] - 57s 229ms/step - loss: 0.2599 - accuracy: 0.8898 - val_loss: 0.5471 - val_accuracy: 0.8035\n"
     ]
    },
    {
     "data": {
      "text/plain": [
       "<keras.callbacks.History at 0x7f27880daed0>"
      ]
     },
     "execution_count": 13,
     "metadata": {},
     "output_type": "execute_result"
    }
   ],
   "source": [
    "cnn.fit(x = training_set, validation_data = test_set, epochs = 20)"
   ]
  },
  {
   "cell_type": "code",
   "execution_count": 46,
   "metadata": {
    "execution": {
     "iopub.execute_input": "2022-10-10T13:16:30.976333Z",
     "iopub.status.busy": "2022-10-10T13:16:30.975957Z",
     "iopub.status.idle": "2022-10-10T13:16:31.048558Z",
     "shell.execute_reply": "2022-10-10T13:16:31.047651Z",
     "shell.execute_reply.started": "2022-10-10T13:16:30.976300Z"
    }
   },
   "outputs": [],
   "source": [
    "import numpy as np\n",
    "from keras.preprocessing import image\n",
    "test_image = image.load_img('../input/dogandcats/dogs_cats/single_prediction/cat_dog1.jpg', target_size = (128,128))\n",
    "test_image = image.img_to_array(test_image)\n",
    "test_image = np.expand_dims(test_image, axis = 0)\n",
    "result = cnn.predict(test_image)\n",
    "training_set.class_indices\n",
    "if result[0][0] == 1:\n",
    "   prediction = 'dog'\n",
    "else:\n",
    "   prediction = 'cat'\n"
   ]
  },
  {
   "cell_type": "code",
   "execution_count": 47,
   "metadata": {
    "execution": {
     "iopub.execute_input": "2022-10-10T13:16:32.668951Z",
     "iopub.status.busy": "2022-10-10T13:16:32.668150Z",
     "iopub.status.idle": "2022-10-10T13:16:32.675208Z",
     "shell.execute_reply": "2022-10-10T13:16:32.673985Z",
     "shell.execute_reply.started": "2022-10-10T13:16:32.668902Z"
    }
   },
   "outputs": [
    {
     "name": "stdout",
     "output_type": "stream",
     "text": [
      "cat\n"
     ]
    }
   ],
   "source": [
    "print(prediction)"
   ]
  },
  {
   "cell_type": "code",
   "execution_count": 48,
   "metadata": {
    "execution": {
     "iopub.execute_input": "2022-10-10T13:16:34.151638Z",
     "iopub.status.busy": "2022-10-10T13:16:34.150829Z",
     "iopub.status.idle": "2022-10-10T13:16:34.158057Z",
     "shell.execute_reply": "2022-10-10T13:16:34.156850Z",
     "shell.execute_reply.started": "2022-10-10T13:16:34.151592Z"
    }
   },
   "outputs": [
    {
     "name": "stdout",
     "output_type": "stream",
     "text": [
      "[[0.]]\n"
     ]
    }
   ],
   "source": [
    "print(result)"
   ]
  }
 ],
 "metadata": {
  "kernelspec": {
   "display_name": "Python 3",
   "language": "python",
   "name": "python3"
  },
  "language_info": {
   "codemirror_mode": {
    "name": "ipython",
    "version": 3
   },
   "file_extension": ".py",
   "mimetype": "text/x-python",
   "name": "python",
   "nbconvert_exporter": "python",
   "pygments_lexer": "ipython3",
   "version": "3.8.8"
  }
 },
 "nbformat": 4,
 "nbformat_minor": 4
}
